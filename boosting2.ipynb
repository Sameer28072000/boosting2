{
 "cells": [
  {
   "cell_type": "markdown",
   "id": "b4a48112-cc03-4cf1-8190-b6f20f26af3e",
   "metadata": {},
   "source": [
    "Q1. What is Gradient Boosting Regression?"
   ]
  },
  {
   "cell_type": "code",
   "execution_count": null,
   "id": "2a2b5981-b5fe-441c-b4c4-2ee0fe8edd1b",
   "metadata": {},
   "outputs": [],
   "source": [
    "Ans:-It is a machine learning algorithm to solve both classification & regression problem.\n",
    "     i.initilization\n",
    "      ii.Building weak  weak leaner\n",
    "        iii.update prediction\n",
    "          iv.final prediction"
   ]
  },
  {
   "cell_type": "markdown",
   "id": "bf32351b-222a-4eec-9b73-612b7b0e24d1",
   "metadata": {},
   "source": [
    "Q2. Implement a simple gradient boosting algorithm from scratch using Python and NumPy. Use a\n",
    "simple regression problem as an example and train the model on a small dataset. Evaluate the model's\n",
    "performance using metrics such as mean squared error and R-squared."
   ]
  },
  {
   "cell_type": "code",
   "execution_count": null,
   "id": "cc2439e0-fad5-4f2e-a634-35e99237e858",
   "metadata": {},
   "outputs": [],
   "source": [
    "Ans:-"
   ]
  },
  {
   "cell_type": "markdown",
   "id": "dac27ba9-6cd7-42cf-b67f-358ecbe1392e",
   "metadata": {},
   "source": [
    "Q3. Experiment with different hyperparameters such as learning rate, number of trees, and tree depth to\n",
    "optimise the performance of the model. Use grid search or random search to find the best\n",
    "hyperparameters"
   ]
  },
  {
   "cell_type": "code",
   "execution_count": null,
   "id": "178b5095-641f-4ed4-b6df-7829870798b0",
   "metadata": {},
   "outputs": [],
   "source": [
    "Ans:-"
   ]
  },
  {
   "cell_type": "markdown",
   "id": "e23b97e6-642e-43e1-a160-8aa4e9eb2391",
   "metadata": {},
   "source": [
    "Q4. What is a weak learner in Gradient Boosting?"
   ]
  },
  {
   "cell_type": "code",
   "execution_count": null,
   "id": "94646dcf-c349-4795-bede-7e7672fe462d",
   "metadata": {},
   "outputs": [],
   "source": [
    "Ans:- Gradient Boosting, a weak learner is typically a decision tree with a shallow depth.\n",
    "        Decision trees are chosen as weak learners because they are capable of capturing non-linear relationships."
   ]
  },
  {
   "cell_type": "markdown",
   "id": "8c8d6718-6e80-42d8-bc3f-b9fc0fd061a7",
   "metadata": {},
   "source": [
    "Q5. What is the intuition behind the Gradient Boosting algorithm?"
   ]
  },
  {
   "cell_type": "code",
   "execution_count": null,
   "id": "cfd11a20-bc99-4c71-acb4-3f320ec19f57",
   "metadata": {},
   "outputs": [],
   "source": [
    "Ans:-\n",
    "     i.weak learner \n",
    "      ii.sequentiall training\n",
    "        iii.gradual improvent"
   ]
  },
  {
   "cell_type": "markdown",
   "id": "b4537c37-5e38-4f94-8964-12eef11e9ca1",
   "metadata": {},
   "source": [
    "Q6. How does Gradient Boosting algorithm build an ensemble of weak learners?"
   ]
  },
  {
   "cell_type": "code",
   "execution_count": null,
   "id": "3f43f9cb-056d-40d5-8f87-51440fcfd219",
   "metadata": {},
   "outputs": [],
   "source": [
    "Ans:-The Gradient Boosting algorithm builds an ensemble of weak learners sequentially\n",
    "      i.initialize the prediction\n",
    "       ii.compute initial prediction\n",
    "         iii.compute residual\n",
    "            iv.Train weak learner\n",
    "             v.update residual\n",
    "                "
   ]
  },
  {
   "cell_type": "markdown",
   "id": "4c176a16-4951-4379-a675-af5ef44a3aec",
   "metadata": {},
   "source": [
    "Q7. What are the steps involved in constructing the mathematical intuition of Gradient Boosting\n",
    "algorithm?"
   ]
  },
  {
   "cell_type": "code",
   "execution_count": null,
   "id": "0d377259-0856-4bf4-a8d3-59c3b86316b9",
   "metadata": {},
   "outputs": [],
   "source": [
    "Ans:- steps:-\n",
    "      i.create a base model\n",
    "       ii.compute residuals,error\n",
    "        iii.construct the decission tree consider input xi & output R1"
   ]
  }
 ],
 "metadata": {
  "kernelspec": {
   "display_name": "Python 3 (ipykernel)",
   "language": "python",
   "name": "python3"
  },
  "language_info": {
   "codemirror_mode": {
    "name": "ipython",
    "version": 3
   },
   "file_extension": ".py",
   "mimetype": "text/x-python",
   "name": "python",
   "nbconvert_exporter": "python",
   "pygments_lexer": "ipython3",
   "version": "3.10.8"
  }
 },
 "nbformat": 4,
 "nbformat_minor": 5
}
